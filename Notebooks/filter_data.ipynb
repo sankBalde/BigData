{
 "cells": [
  {
   "cell_type": "code",
   "execution_count": 1,
   "id": "initial_id",
   "metadata": {
    "collapsed": true,
    "ExecuteTime": {
     "end_time": "2024-03-25T15:53:33.475072Z",
     "start_time": "2024-03-25T15:53:32.062869Z"
    }
   },
   "outputs": [],
   "source": [
    "import os\n",
    "import datetime\n",
    "import dateutil\n",
    "import tarfile\n",
    "import requests\n",
    "import pandas as pd\n",
    "import pandas.io.sql as sqlio\n",
    "\n",
    "%matplotlib inline"
   ]
  },
  {
   "cell_type": "code",
   "execution_count": 4,
   "outputs": [
    {
     "data": {
      "text/plain": "['compB 2023-11-21 10:12:01.914574.bz2',\n 'amsterdam 2023-01-23 16:42:01.777744.bz2',\n 'compA 2023-04-10 09:12:01.301255.bz2',\n 'compA 2023-07-12 11:42:01.793751.bz2',\n 'peapme 2023-01-25 16:12:01.637978.bz2']"
     },
     "execution_count": 4,
     "metadata": {},
     "output_type": "execute_result"
    }
   ],
   "source": [
    "os.listdir('../boursorama/2023')[:5]"
   ],
   "metadata": {
    "collapsed": false,
    "ExecuteTime": {
     "end_time": "2024-03-25T15:55:25.717431Z",
     "start_time": "2024-03-25T15:55:25.684786Z"
    }
   },
   "id": "c5091d66fcad2b0f"
  },
  {
   "cell_type": "code",
   "execution_count": 5,
   "outputs": [],
   "source": [
    "df = pd.read_pickle('../boursorama/2023/compB 2023-11-21 10:12:01.914574.bz2') # read_pickle to read Pandas DataFrames"
   ],
   "metadata": {
    "collapsed": false,
    "ExecuteTime": {
     "end_time": "2024-03-25T15:55:55.369122Z",
     "start_time": "2024-03-25T15:55:55.358904Z"
    }
   },
   "id": "5d1c59746f31a72b"
  },
  {
   "cell_type": "code",
   "execution_count": 6,
   "outputs": [
    {
     "data": {
      "text/plain": "             last  volume   symbol              name\nsymbol                                              \n1rPAB       2.885   56246    1rPAB     SRDAB SCIENCE\n1rPABCA     4.980    6675  1rPABCA  SRDABC ARBITRAGE\n1rPABVX    10.240    1907  1rPABVX            ABIVAX\n1rPABLD  9.700(c)       0  1rPABLD   ABL DIAGNOSTICS\n1rPAAC   9.950(c)       0   1rPAAC     ACCOR ACQ COM",
      "text/html": "<div>\n<style scoped>\n    .dataframe tbody tr th:only-of-type {\n        vertical-align: middle;\n    }\n\n    .dataframe tbody tr th {\n        vertical-align: top;\n    }\n\n    .dataframe thead th {\n        text-align: right;\n    }\n</style>\n<table border=\"1\" class=\"dataframe\">\n  <thead>\n    <tr style=\"text-align: right;\">\n      <th></th>\n      <th>last</th>\n      <th>volume</th>\n      <th>symbol</th>\n      <th>name</th>\n    </tr>\n    <tr>\n      <th>symbol</th>\n      <th></th>\n      <th></th>\n      <th></th>\n      <th></th>\n    </tr>\n  </thead>\n  <tbody>\n    <tr>\n      <th>1rPAB</th>\n      <td>2.885</td>\n      <td>56246</td>\n      <td>1rPAB</td>\n      <td>SRDAB SCIENCE</td>\n    </tr>\n    <tr>\n      <th>1rPABCA</th>\n      <td>4.980</td>\n      <td>6675</td>\n      <td>1rPABCA</td>\n      <td>SRDABC ARBITRAGE</td>\n    </tr>\n    <tr>\n      <th>1rPABVX</th>\n      <td>10.240</td>\n      <td>1907</td>\n      <td>1rPABVX</td>\n      <td>ABIVAX</td>\n    </tr>\n    <tr>\n      <th>1rPABLD</th>\n      <td>9.700(c)</td>\n      <td>0</td>\n      <td>1rPABLD</td>\n      <td>ABL DIAGNOSTICS</td>\n    </tr>\n    <tr>\n      <th>1rPAAC</th>\n      <td>9.950(c)</td>\n      <td>0</td>\n      <td>1rPAAC</td>\n      <td>ACCOR ACQ COM</td>\n    </tr>\n  </tbody>\n</table>\n</div>"
     },
     "execution_count": 6,
     "metadata": {},
     "output_type": "execute_result"
    }
   ],
   "source": [
    "df.head()"
   ],
   "metadata": {
    "collapsed": false,
    "ExecuteTime": {
     "end_time": "2024-03-25T15:56:02.076447Z",
     "start_time": "2024-03-25T15:56:02.073380Z"
    }
   },
   "id": "c9aa7e8103a0ef7f"
  },
  {
   "cell_type": "code",
   "execution_count": null,
   "outputs": [],
   "source": [],
   "metadata": {
    "collapsed": false
   },
   "id": "4501d7b3a5527172"
  }
 ],
 "metadata": {
  "kernelspec": {
   "display_name": "Python 3",
   "language": "python",
   "name": "python3"
  },
  "language_info": {
   "codemirror_mode": {
    "name": "ipython",
    "version": 2
   },
   "file_extension": ".py",
   "mimetype": "text/x-python",
   "name": "python",
   "nbconvert_exporter": "python",
   "pygments_lexer": "ipython2",
   "version": "2.7.6"
  }
 },
 "nbformat": 4,
 "nbformat_minor": 5
}
